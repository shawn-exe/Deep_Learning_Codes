{
 "cells": [
  {
   "cell_type": "code",
   "execution_count": 1,
   "metadata": {},
   "outputs": [
    {
     "name": "stdout",
     "output_type": "stream",
     "text": [
      "0.585026652029182\n",
      "0.09691001300805639\n",
      "0.3187587626244128\n",
      "0.5228787452803376\n",
      "0.3808935432354972\n"
     ]
    }
   ],
   "source": [
    "import math\n",
    "input_data=[\n",
    "    ( 0.26,1),\n",
    "    (0.20,0),\n",
    "    (0.48,1),\n",
    "    (0.30,1)]\n",
    "\n",
    "def crossentropy(input_data):\n",
    "    loss=0\n",
    "    n=len(input_data)\n",
    "    for entry in input_data:\n",
    "        w_sum =entry[0]\n",
    "        y=entry[1]\n",
    "        loss +=-(y*math.log10(w_sum)+ (1-y)* math.log10(1-w_sum))\n",
    "        print(-(y*math.log10(w_sum)+ (1-y)* math.log10(1-w_sum)))\n",
    "\n",
    "    return loss/n\n",
    "\n",
    "error_term= crossentropy(input_data)\n",
    "print(error_term)\n"
   ]
  },
  {
   "cell_type": "code",
   "execution_count": 1,
   "metadata": {},
   "outputs": [
    {
     "name": "stdout",
     "output_type": "stream",
     "text": [
      "\n",
      "========== Epoch 0 ==========\n",
      "Average loss:  0.7815962731935108\n",
      "\n",
      "========== Epoch 1 ==========\n",
      "Average loss:  0.7632398027596669\n",
      "\n",
      "========== Epoch 2 ==========\n",
      "Average loss:  0.7483344635698836\n",
      "\n",
      "========== Epoch 3 ==========\n",
      "Average loss:  0.7362246185054668\n",
      "\n",
      "========== Epoch 4 ==========\n",
      "Average loss:  0.7263569130143749\n",
      "\n",
      "========== Epoch 5 ==========\n",
      "Average loss:  0.7182739502371991\n",
      "\n",
      "========== Epoch 6 ==========\n",
      "Average loss:  0.7116036823525151\n",
      "\n",
      "========== Epoch 7 ==========\n",
      "Average loss:  0.7060471955956885\n",
      "\n",
      "========== Epoch 8 ==========\n",
      "Average loss:  0.7013665802022788\n",
      "\n",
      "========== Epoch 9 ==========\n",
      "Average loss:  0.6973738177406025\n"
     ]
    }
   ],
   "source": [
    "import numpy as np\n",
    "\n",
    "# Activation Function\n",
    "def sigmoid(w_sum):\n",
    "    return 1 / (1 + np.exp(-w_sum))\n",
    "\n",
    "# Get Prediction\n",
    "def predict(features, weights, bias):\n",
    "    return sigmoid(np.dot(features, weights) + bias)\n",
    "\n",
    "# Loss Function\n",
    "def cross_entropy(target, pred):\n",
    "    return -(target * np.log(pred) + (1 - target) * np.log(1 - pred))\n",
    "\n",
    "# Update Weights\n",
    "def gradient_descent(features, target, weights, bias, learnrate, pred):\n",
    "    # Calculate the error\n",
    "    error = target - pred\n",
    "    \n",
    "    # Update weights\n",
    "    weights += learnrate * error * features\n",
    "    \n",
    "    # Update bias\n",
    "    bias += learnrate * error\n",
    "    \n",
    "    return weights, bias\n",
    "\n",
    "# Data\n",
    "features = np.array([[0.1, 0.5, 0.2], [0.2, 0.3, 0.1], [0.7, 0.4, 0.2], [0.1, 0.4, 0.3]])\n",
    "targets = np.array([0, 1, 0, 1])\n",
    "epochs = 10\n",
    "learnrate = 0.1\n",
    "errors = []\n",
    "weights = np.array([0.4, 0.2, 0.6])\n",
    "bias = 0.5\n",
    "\n",
    "for e in range(epochs):\n",
    "    for x, y in zip(features, targets):\n",
    "        pred = predict(x, weights, bias)\n",
    "        error = cross_entropy(y, pred)\n",
    "        weights, bias = gradient_descent(x, y, weights, bias, learnrate, pred)\n",
    "    \n",
    "    # Printing out the log-loss error on the training set\n",
    "    out = predict(features, weights, bias)\n",
    "    loss = np.mean([cross_entropy(y, o) for y, o in zip(targets, out)])\n",
    "    errors.append(loss)\n",
    "    print(\"\\n========== Epoch\", e, \"==========\")\n",
    "    print(\"Average loss: \", loss)\n"
   ]
  },
  {
   "cell_type": "code",
   "execution_count": null,
   "metadata": {},
   "outputs": [],
   "source": []
  }
 ],
 "metadata": {
  "kernelspec": {
   "display_name": "dlm",
   "language": "python",
   "name": "python3"
  },
  "language_info": {
   "codemirror_mode": {
    "name": "ipython",
    "version": 3
   },
   "file_extension": ".py",
   "mimetype": "text/x-python",
   "name": "python",
   "nbconvert_exporter": "python",
   "pygments_lexer": "ipython3",
   "version": "3.10.11"
  }
 },
 "nbformat": 4,
 "nbformat_minor": 2
}
